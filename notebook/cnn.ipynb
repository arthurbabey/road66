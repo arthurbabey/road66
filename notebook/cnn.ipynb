{
 "cells": [
  {
   "cell_type": "code",
   "execution_count": 1,
   "metadata": {},
   "outputs": [
    {
     "name": "stderr",
     "output_type": "stream",
     "text": [
      "Using TensorFlow backend.\n"
     ]
    }
   ],
   "source": [
    "%matplotlib inline\n",
    "import matplotlib.image as mpimg\n",
    "import numpy as np\n",
    "import matplotlib.pyplot as plt\n",
    "import os,sys\n",
    "from PIL import Image\n",
    "import sys\n",
    "sys.path.append('/Users/arthurbabey/Documents/master2/ML/road66/scripts')\n",
    "from helpers import *\n",
    "import keras \n",
    "import tensorflow as tf\n"
   ]
  },
  {
   "cell_type": "code",
   "execution_count": 2,
   "metadata": {},
   "outputs": [],
   "source": [
    "from __future__ import print_function\n",
    "\n",
    "from keras import regularizers\n",
    "from keras.layers import Conv2D\n",
    "from keras.layers import MaxPooling2D\n",
    "from keras.preprocessing.image import ImageDataGenerator\n",
    "from keras.models import Sequential\n",
    "from keras.layers import Dense, Dropout, Activation, Flatten"
   ]
  },
  {
   "cell_type": "code",
   "execution_count": 43,
   "metadata": {},
   "outputs": [
    {
     "name": "stdout",
     "output_type": "stream",
     "text": [
      "Loading 100 testing images\n",
      "Loading 100groundtruth\n"
     ]
    }
   ],
   "source": [
    "# Loaded a set of images\n",
    "root_dir = \"../Datasets/training/\"\n",
    "\n",
    "image_dir = root_dir + \"images/\"\n",
    "files = os.listdir(image_dir)\n",
    "n = len(files) # Use all images\n",
    "print(\"Loading \" + str(n) + \" testing images\")\n",
    "imgs = [load_image(image_dir + files[i]) for i in range(n)]\n",
    "\n",
    "gt_dir = root_dir + \"groundtruth/\"\n",
    "print(\"Loading \" + str(n) + \" groundtruth\")\n",
    "gt_imgs = [load_image(gt_dir + files[i]) for i in range(n)]"
   ]
  },
  {
   "cell_type": "code",
   "execution_count": 53,
   "metadata": {},
   "outputs": [
    {
     "name": "stdout",
     "output_type": "stream",
     "text": [
      "62500 patches of 16x16 pixels for training are stored in x_train\n",
      "62500 binary values (1 = road, 0 = bckgrnd) are stored in y_train\n"
     ]
    }
   ],
   "source": [
    "# \n",
    "# Preparation training data\n",
    "# \n",
    "\n",
    "\n",
    "# Extract patches from input images\n",
    "patch_size = 16 # each patch is 16*16 pixels\n",
    "\n",
    "img_patches = [img_crop(imgs[i], patch_size, patch_size) for i in range(n)]\n",
    "gt_patches = [img_crop(gt_imgs[i], patch_size, patch_size) for i in range(n)]\n",
    "\n",
    "# Linearize list of patches\n",
    "img_patches = np.asarray([img_patches[i][j] for i in range(len(img_patches)) for j in range(len(img_patches[i]))])\n",
    "gt_patches =  np.asarray([gt_patches[i][j] for i in range(len(gt_patches)) for j in range(len(gt_patches[i]))])\n",
    "\n",
    "img_patches = np.asarray(img_patches)\n",
    "gt_patches = np.asarray(gt_patches)\n",
    "\n",
    "x_train = img_patches\n",
    "y_train = np.asarray([value_to_class(np.mean(gt_patches[i])) for i in range(gt_patches.shape[0])])\n",
    "\n",
    "print(\"62500 patches of 16x16 pixels for training are stored in x_train\")\n",
    "print(\"62500 binary values (1 = road, 0 = bckgrnd) are stored in y_train\")"
   ]
  },
  {
   "cell_type": "code",
   "execution_count": 12,
   "metadata": {},
   "outputs": [
    {
     "name": "stdout",
     "output_type": "stream",
     "text": [
      "72200 patches of 16x16 pixels from the test set are stored in y_test\n"
     ]
    }
   ],
   "source": [
    "# \n",
    "# Preparation testing data to make a submission\n",
    "# \n",
    "\n",
    "# \n",
    "# Ordering image\n",
    "# \n",
    "root_testdir = \"../Datasets/test_set_images\"\n",
    "test_names = os.listdir(root_testdir)\n",
    "\n",
    "num_test = len(test_names)\n",
    "order = [int(test_names[i].split(\"_\")[1]) for i in range(num_test)]\n",
    "index = np.argsort(order)\n",
    "\n",
    "# Load image and reorder them\n",
    "imgs_test = [load_image(os.path.join(root_testdir, test_names[i], test_names[i]) + \".png\") \n",
    "             for i in range(num_test)]\n",
    "imgs_test = [imgs_test[i] for i in index]\n",
    "\n",
    "# Crop images in patch and Linearize list of patches\n",
    "patch_size = 16 # each patch is 16*16 pixels\n",
    "\n",
    "img_patches_test = [img_crop(imgs_test[i], patch_size, patch_size) for i in range(num_test)]\n",
    "\n",
    "\n",
    "# Linearize list of patches\n",
    "y_test = np.asarray([img_patches_test[i][j] for i in range(len(img_patches_test)) \n",
    "                     for j in range(len(img_patches_test[i]))])\n",
    "\n",
    "print(\"72200 patches of 16x16 pixels from the test set are stored in y_test\")"
   ]
  },
  {
   "cell_type": "code",
   "execution_count": 54,
   "metadata": {},
   "outputs": [],
   "source": [
    "split_data = False \n",
    "\n",
    "#split the x_train and y_train if True\n",
    "\n",
    "if split_data:\n",
    "\n",
    "    from sklearn.model_selection import train_test_split\n",
    "\n",
    "    x_train, x_test, y_train, y_test = train_test_split(x_train, y_train, test_size=0.33, random_state=42)\n",
    "    y_train = np.asarray(y_train)\n",
    "    y_test = np.asarray(y_test)"
   ]
  },
  {
   "cell_type": "code",
   "execution_count": 55,
   "metadata": {},
   "outputs": [],
   "source": [
    "#arranging y_train to be used in the CNN \n",
    "\n",
    "y_train = np.array(y_train, ndmin = 2)            \n",
    "y_train = keras.utils.to_categorical(y_train.T, 2)\n",
    "\n",
    "#y_test = np.array(y_test, ndmin = 2)            \n",
    "#y_test = keras.utils.to_categorical(y_test.T, 2)"
   ]
  },
  {
   "cell_type": "code",
   "execution_count": 15,
   "metadata": {},
   "outputs": [],
   "source": [
    "#x_train = tf.keras.utils.normalize(x_train, axis = 1)\n",
    "#x_test = tf.keras.utils.normalize(x_test, axis = 1)"
   ]
  },
  {
   "cell_type": "code",
   "execution_count": 65,
   "metadata": {},
   "outputs": [],
   "source": [
    "batch_size = 32\n",
    "num_classes = 2\n",
    "epochs = 1\n",
    "#data_augmentation = True\n",
    "save_dir = os.path.join(os.getcwd(), 'saved_models')\n",
    "model_name = 'roadNN.h5'"
   ]
  },
  {
   "cell_type": "code",
   "execution_count": 66,
   "metadata": {},
   "outputs": [],
   "source": [
    "model = Sequential() #create a model\n",
    "\n",
    "model.add(Conv2D(32, (1, 1), activation = 'relu' , padding='same', #first conv + relu layer\n",
    "                 data_format='channels_last',\n",
    "                 input_shape=x_train.shape[1:]))\n",
    "model.add(Conv2D(32, (1, 1), activation = 'relu' , padding='same')) #conv + relu layer\n",
    "model.add(MaxPooling2D(pool_size=(2, 2), strides=1, padding='same', data_format=None)) #first pooling layer\n",
    "\n",
    "model.add(Conv2D(64, (1, 1), activation = 'relu' , padding='same')) #conv + relu layer\n",
    "model.add(Conv2D(64, (1, 1), activation = 'relu' , padding='same')) #conv + relu layer\n",
    "model.add(MaxPooling2D(pool_size=(2, 2), strides=1, padding='same', data_format=None)) #pooling layer\n",
    "\n",
    "model.add(Conv2D(128, (1, 1), activation = 'relu' , padding='same')) #conv + relu layer\n",
    "model.add(Conv2D(128, (1, 1), activation = 'relu' , padding='same')) #conv + relu layer\n",
    "model.add(MaxPooling2D(pool_size=(2, 2), strides=1, padding='same', data_format=None)) #pooling layer\n",
    "\n",
    "model.add(Flatten()) #flatt layer before feeding the fully connected layer\n",
    "#model.add(Dense(10))\n",
    "#model.add(Activation('relu'))\n",
    "#model.add(Dropout(0.5))\n",
    "model.add(Dense(num_classes, kernel_regularizer=regularizers.l2())) #Fully Connected layer with 2 outputs\n",
    "model.add(Activation('softmax')) #sigmoid like, to set value between 0 and 1\n",
    "\n"
   ]
  },
  {
   "cell_type": "code",
   "execution_count": 67,
   "metadata": {},
   "outputs": [
    {
     "name": "stdout",
     "output_type": "stream",
     "text": [
      "Train on 41875 samples, validate on 20625 samples\n",
      "Epoch 1/1\n",
      "41875/41875 [==============================] - 136s 3ms/step - loss: 0.4922 - binary_accuracy: 0.7606 - val_loss: 0.4707 - val_binary_accuracy: 0.7773\n"
     ]
    },
    {
     "data": {
      "text/plain": [
       "<keras.callbacks.callbacks.History at 0x1c3ebd3198>"
      ]
     },
     "execution_count": 67,
     "metadata": {},
     "output_type": "execute_result"
    }
   ],
   "source": [
    "model.compile(loss='binary_crossentropy', #compile the model\n",
    "              optimizer='adam',\n",
    "              metrics=['binary_accuracy'])\n",
    "\n",
    "model.fit(x_train, y_train, #fitting the model \n",
    "              batch_size=batch_size,\n",
    "              epochs=epochs,\n",
    "              validation_data=(x_test, y_test),\n",
    "              shuffle=True)"
   ]
  },
  {
   "cell_type": "code",
   "execution_count": 57,
   "metadata": {},
   "outputs": [
    {
     "name": "stdout",
     "output_type": "stream",
     "text": [
      "Test loss: 0.37451173811247856\n",
      "Test accuracy: 0.8253090977668762\n"
     ]
    }
   ],
   "source": [
    "#print the loss and the metrics if using a split_data\n",
    "\n",
    "scores = model.evaluate(x_test, y_test, verbose=0)\n",
    "print('Test loss:', scores[0])\n",
    "print('Test accuracy:', scores[1])"
   ]
  },
  {
   "cell_type": "code",
   "execution_count": 33,
   "metadata": {},
   "outputs": [
    {
     "name": "stdout",
     "output_type": "stream",
     "text": [
      "72200/72200 [==============================] - 26s 362us/step\n"
     ]
    },
    {
     "data": {
      "text/plain": [
       "array([[0.7372001 , 0.2627999 ],\n",
       "       [0.40423077, 0.5957692 ],\n",
       "       [0.40198064, 0.59801936],\n",
       "       ...,\n",
       "       [0.9114895 , 0.08851055],\n",
       "       [0.97935885, 0.02064116],\n",
       "       [0.9445132 , 0.05548685]], dtype=float32)"
      ]
     },
     "execution_count": 33,
     "metadata": {},
     "output_type": "execute_result"
    }
   ],
   "source": [
    "predictions = model.predict(y_test, batch_size=None, verbose=1, \n",
    "                            steps=None, callbacks=None, max_queue_size=10, workers=1, use_multiprocessing=False)\n",
    "predictions"
   ]
  },
  {
   "cell_type": "code",
   "execution_count": 34,
   "metadata": {},
   "outputs": [],
   "source": [
    "pred = np.zeros(predictions.shape[0]) \n",
    "pred[predictions[:,0]< predictions[:,1]] = 1 #merging predictions to 1d vector with value 0 or 1\n"
   ]
  },
  {
   "cell_type": "code",
   "execution_count": 36,
   "metadata": {},
   "outputs": [],
   "source": [
    "create_submission(pred, \"cnn_submission.csv\")\n"
   ]
  },
  {
   "cell_type": "code",
   "execution_count": 59,
   "metadata": {},
   "outputs": [],
   "source": [
    "model.save('cnn.model') #to load and save the current model \n",
    "#new_model = tf.keras.models.load_model('cnn.model')\n"
   ]
  },
  {
   "cell_type": "code",
   "execution_count": 60,
   "metadata": {},
   "outputs": [],
   "source": []
  },
  {
   "cell_type": "code",
   "execution_count": null,
   "metadata": {},
   "outputs": [],
   "source": []
  }
 ],
 "metadata": {
  "kernelspec": {
   "display_name": "Python 3",
   "language": "python",
   "name": "python3"
  },
  "language_info": {
   "codemirror_mode": {
    "name": "ipython",
    "version": 3
   },
   "file_extension": ".py",
   "mimetype": "text/x-python",
   "name": "python",
   "nbconvert_exporter": "python",
   "pygments_lexer": "ipython3",
   "version": "3.7.3"
  }
 },
 "nbformat": 4,
 "nbformat_minor": 2
}
