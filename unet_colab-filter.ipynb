{
  "nbformat": 4,
  "nbformat_minor": 0,
  "metadata": {
    "colab": {
      "name": "unet-colab.ipynb",
      "provenance": [],
      "machine_shape": "hm",
      "include_colab_link": true
    },
    "kernelspec": {
      "name": "python3",
      "display_name": "Python 3"
    },
    "accelerator": "GPU"
  },
  "cells": [
    {
      "cell_type": "markdown",
      "metadata": {
        "id": "view-in-github",
        "colab_type": "text"
      },
      "source": [
        "<a href=\"https://colab.research.google.com/github/arthurbabey/road66/blob/arthur/unet_colab-filter.ipynb\" target=\"_parent\"><img src=\"https://colab.research.google.com/assets/colab-badge.svg\" alt=\"Open In Colab\"/></a>"
      ]
    },
    {
      "cell_type": "code",
      "metadata": {
        "id": "sPCdsZZqymCk",
        "colab_type": "code",
        "outputId": "b4440f6e-5a70-4eef-ad02-f48b2c5493a6",
        "colab": {
          "base_uri": "https://localhost:8080/",
          "height": 80
        }
      },
      "source": [
        "import keras\n",
        "import numpy as np\n",
        "import tensorflow as tf\n",
        "import os,sys\n",
        "import matplotlib.image as mpimg\n",
        "from PIL import Image\n",
        "import matplotlib.pyplot as plt\n",
        "\n",
        "\n",
        "sys.path.append('/Users/arthurbabey/Documents/master2/ML/road66/scripts')\n",
        "\n",
        "\n",
        "from skimage.transform import rotate\n",
        "from skimage.transform import resize\n",
        "from sklearn.model_selection import train_test_split\n",
        "\n",
        "\n",
        "\n",
        "def load_image(infilename):\n",
        "    data = mpimg.imread(infilename)\n",
        "    return data\n",
        "\n",
        "\n",
        "# Concatenate an image and its groundtruth\n",
        "def concatenate_images(img, gt_img):\n",
        "    nChannels = len(gt_img.shape)\n",
        "    w = gt_img.shape[0]\n",
        "    h = gt_img.shape[1]\n",
        "    if nChannels == 3:\n",
        "        cimg = np.concatenate((img, gt_img), axis=1)\n",
        "    else:\n",
        "        gt_img_3c = np.zeros((w, h, 3), dtype=np.uint8)\n",
        "        gt_img8 = img_float_to_uint8(gt_img)\n",
        "        gt_img_3c[:,:,0] = gt_img8\n",
        "        gt_img_3c[:,:,1] = gt_img8\n",
        "        gt_img_3c[:,:,2] = gt_img8\n",
        "        img8 = img_float_to_uint8(img)\n",
        "        cimg = np.concatenate((img8, gt_img_3c), axis=1)\n",
        "    return cimg\n",
        "\n",
        "# Convert array of labels to an image\n",
        "\n",
        "def label_to_img(imgwidth, imgheight, w, h, labels):\n",
        "    im = np.zeros([imgwidth, imgheight])\n",
        "    idx = 0\n",
        "    for i in range(0,imgheight,h):\n",
        "        for j in range(0,imgwidth,w):\n",
        "            im[j:j+w, i:i+h] = labels[idx]\n",
        "            idx = idx + 1\n",
        "    return im\n",
        "\n",
        "def value_to_class(v, foreground_threshold=0.25):\n",
        "\n",
        "    df = np.sum(v)\n",
        "    if df > foreground_threshold:\n",
        "        return 1\n",
        "    else:\n",
        "        return 0\n",
        "\n",
        "def get_f1(y_true, y_pred): #taken from old keras source code\n",
        "    true_positives = K.sum(K.round(K.clip(y_true * y_pred, 0, 1)))\n",
        "    possible_positives = K.sum(K.round(K.clip(y_true, 0, 1)))\n",
        "    predicted_positives = K.sum(K.round(K.clip(y_pred, 0, 1)))\n",
        "    precision = true_positives / (predicted_positives + K.epsilon())\n",
        "    recall = true_positives / (possible_positives + K.epsilon())\n",
        "    f1_val = 2*(precision*recall)/(precision+recall+K.epsilon())\n",
        "    return f1_val\n",
        "\n",
        "def rotate_images(X, Y , degrees):\n",
        "    \"\"\"\n",
        "    increase the number of data\n",
        "    by adding rotations of the base data\n",
        "    \"\"\"\n",
        "\n",
        "    X = np.array(X)\n",
        "    Y = np.array(Y)\n",
        "    rotimg = np.zeros(X.shape)\n",
        "    rotgtimg = np.zeros(Y.shape)\n",
        "\n",
        "    Xtemp = X\n",
        "    Ytemp = Y\n",
        "\n",
        "    #rotate all images by degree and add them to the data vector\n",
        "    for degree in degrees:\n",
        "        for i in range(len(Xtemp)):\n",
        "            rotimg[i] = rotate(Xtemp[i], degree, resize=False, mode='reflect')\n",
        "            rotgtimg[i] = rotate(Ytemp[i], degree, resize=False, mode='reflect')\n",
        "        X = np.concatenate([X,rotimg])\n",
        "        Y = np.concatenate([Y,rotgtimg])\n",
        "\n",
        "    return X,Y\n",
        "\n",
        "def resize_image(X, Y, size = 512):\n",
        "\n",
        "    X = np.asarray(X)\n",
        "    Y = np.asarray(Y)\n",
        "\n",
        "    Xresize = np.asarray([resize(X[i], (size,size), mode = 'reflect') for i in range(X.shape[0])])\n",
        "    Yresize = np.asarray([resize(Y[i], (size,size), mode = 'reflect') for i in range(X.shape[0])])\n",
        "\n",
        "\n",
        "    return Xresize, Yresize\n",
        "\n",
        "\n",
        "\n",
        "\n",
        "def create_submission(y_pred, submission_filename, patch_size = 16, images_size = 608):\n",
        "    n_patches = images_size // patch_size\n",
        "    y_pred = np.reshape(y_pred, (-1, n_patches, n_patches))\n",
        "\n",
        "    with open(submission_filename, 'w') as f:\n",
        "        f.write('id,prediction\\n')\n",
        "        for i in range(y_pred.shape[0]):\n",
        "            img = y_pred[i]\n",
        "            for j in range(img.shape[0]):\n",
        "                for k in range(img.shape[1]):\n",
        "                    name = '{:03d}_{}_{},{}'.format(i + 1, j * patch_size, k * patch_size, int(img[j,k]))\n",
        "                    f.write(name + '\\n')\n",
        "\n",
        "\n",
        "def balance_data(x_train, y_train):\n",
        "    c0 = 0  # bgrd\n",
        "    c1 = 0  # road\n",
        "    for i in range(len(y_train)):\n",
        "        if y_train[i][0] == 1:\n",
        "            c0 = c0 + 1\n",
        "        else:\n",
        "            c1 = c1 + 1\n",
        "    print('Number of data points per class: c0 = ' + str(c0) + ' c1 = ' + str(c1))\n",
        "\n",
        "    print('Balancing training data...')\n",
        "    min_c = min(c0, c1)\n",
        "    idx0 = [i for i, j in enumerate(y_train) if j[0] == 1]\n",
        "    idx1 = [i for i, j in enumerate(y_train) if j[1] == 1]\n",
        "    new_indices = idx0[0:min_c] + idx1[0:min_c]\n",
        "    print(len(new_indices))\n",
        "    print(x_train.shape)\n",
        "    x_train = x_train[new_indices, :, :, :]\n",
        "    y_train = y_train[new_indices]\n",
        "\n",
        "    train_size = y_train.shape[0]\n",
        "\n",
        "    c0 = 0\n",
        "    c1 = 0\n",
        "    for i in range(len(y_train)):\n",
        "        if y_train[i][0] == 1:\n",
        "            c0 = c0 + 1\n",
        "        else:\n",
        "            c1 = c1 + 1\n",
        "    print('Number of data points per class: c0 = ' + str(c0) + ' c1 = ' + str(c1))\n",
        "\n",
        "    return x_train, y_train\n",
        "\n",
        "\n",
        "def img_crop(im, w, h, border = 0, step = 16):\n",
        "    \"\"\"\n",
        "    Return the patches list of an image.\n",
        "    \"\"\"\n",
        "    list_patches = []\n",
        "    imgwidth = im.shape[0]\n",
        "    imgheight = im.shape[1]\n",
        "    is_2d = len(im.shape) < 3\n",
        "    if border != 0:\n",
        "        im_r = np.pad(im[:,:,0], ((border, border), (border, border)), 'reflect')\n",
        "        im_g = np.pad(im[:,:,1], ((border, border), (border, border)), 'reflect')\n",
        "        im_b = np.pad(im[:,:,2], ((border, border), (border, border)), 'reflect')\n",
        "        im = np.dstack((im_r, im_g, im_b))\n",
        "    for i in range(0,imgheight,step):\n",
        "        for j in range(0,imgwidth,step):\n",
        "            if is_2d:\n",
        "                im_patch = im[j:j+w+2*border, i:i+h+2*border]\n",
        "            else:\n",
        "                im_patch = im[j:j+w+2*border, i:i+h+2*border, :]\n",
        "            list_patches.append(im_patch)\n",
        "    return list_patches\n",
        "\n",
        "\n",
        "def load_trainset(path = 'Data/test_set_images'):\n",
        "\n",
        "    # Loaded a set of images\n",
        "    root_dir = path\n",
        "\n",
        "    image_dir = root_dir + \"images/\"\n",
        "    files = os.listdir(image_dir)\n",
        "    n = len(files) # Use all images\n",
        "    print(\"Loading \" + str(n) + \" testing images\")\n",
        "    imgs = [load_image(image_dir + files[i]) for i in range(100)]\n",
        "\n",
        "    gt_dir = root_dir + \"groundtruth/\"\n",
        "    print(\"Loading \" + str(n) + \" groundtruth\")\n",
        "    gt_imgs = [load_image(gt_dir + files[i]) for i in range(100)]\n",
        "\n",
        "    return imgs, gt_imgs\n",
        "\n",
        "\n",
        "def load_testset(path = 'Data/test_set_images'):\n",
        "\n",
        "\n",
        "  root_testdir = path\n",
        "  test_names = os.listdir(root_testdir)\n",
        "\n",
        "  num_test = len(test_names)\n",
        "  order = [int(test_names[i].split(\"_\")[1]) for i in range(num_test)]\n",
        "  index = np.argsort(order)\n",
        "\n",
        "  # Load image and reorder them\n",
        "  imgs_test = [load_image(os.path.join(root_testdir, test_names[i], test_names[i]) + \".png\")\n",
        "               for i in range(num_test)]\n",
        "  imgs_test = [imgs_test[i] for i in index]\n",
        "\n",
        "  return imgs_test\n"
      ],
      "execution_count": 1,
      "outputs": [
        {
          "output_type": "stream",
          "text": [
            "Using TensorFlow backend.\n"
          ],
          "name": "stderr"
        },
        {
          "output_type": "display_data",
          "data": {
            "text/html": [
              "<p style=\"color: red;\">\n",
              "The default version of TensorFlow in Colab will soon switch to TensorFlow 2.x.<br>\n",
              "We recommend you <a href=\"https://www.tensorflow.org/guide/migrate\" target=\"_blank\">upgrade</a> now \n",
              "or ensure your notebook will continue to use TensorFlow 1.x via the <code>%tensorflow_version 1.x</code> magic:\n",
              "<a href=\"https://colab.research.google.com/notebooks/tensorflow_version.ipynb\" target=\"_blank\">more info</a>.</p>\n"
            ],
            "text/plain": [
              "<IPython.core.display.HTML object>"
            ]
          },
          "metadata": {
            "tags": []
          }
        }
      ]
    },
    {
      "cell_type": "code",
      "metadata": {
        "id": "85maIDrJ4dK-",
        "colab_type": "code",
        "outputId": "af233be8-8c80-4a98-8965-261d29cdc92e",
        "colab": {
          "base_uri": "https://localhost:8080/",
          "height": 34
        }
      },
      "source": [
        "%tensorflow_version 1.x\n",
        "import tensorflow as tf\n",
        "device_name = tf.test.gpu_device_name()\n",
        "if device_name != '/device:GPU:0':\n",
        "  raise SystemError('GPU device not found')\n",
        "print('Found GPU at: {}'.format(device_name))"
      ],
      "execution_count": 2,
      "outputs": [
        {
          "output_type": "stream",
          "text": [
            "Found GPU at: /device:GPU:0\n"
          ],
          "name": "stdout"
        }
      ]
    },
    {
      "cell_type": "code",
      "metadata": {
        "id": "d6g2cNdL5H_3",
        "colab_type": "code",
        "colab": {}
      },
      "source": [
        "%matplotlib inline\n",
        "import matplotlib.image as mpimg\n",
        "import numpy as np\n",
        "import matplotlib.pyplot as plt\n",
        "import os,sys\n",
        "from PIL import Image\n",
        "import sys\n",
        "sys.path.append('/Users/arthurbabey/Documents/master2/ML/road66/scripts')\n",
        "\n",
        "\n",
        "from skimage.transform import rotate\n",
        "from skimage.transform import resize\n",
        "from sklearn.model_selection import train_test_split\n"
      ],
      "execution_count": 0,
      "outputs": []
    },
    {
      "cell_type": "code",
      "metadata": {
        "id": "FGFWJndu5hJg",
        "colab_type": "code",
        "outputId": "456048da-3484-4afe-b388-e3735cb30fdb",
        "colab": {
          "base_uri": "https://localhost:8080/",
          "height": 122
        }
      },
      "source": [
        "from google.colab import drive\n",
        "drive.mount('/content/drive')"
      ],
      "execution_count": 4,
      "outputs": [
        {
          "output_type": "stream",
          "text": [
            "Go to this URL in a browser: https://accounts.google.com/o/oauth2/auth?client_id=947318989803-6bn6qk8qdgf4n4g3pfee6491hc0brc4i.apps.googleusercontent.com&redirect_uri=urn%3aietf%3awg%3aoauth%3a2.0%3aoob&response_type=code&scope=email%20https%3a%2f%2fwww.googleapis.com%2fauth%2fdocs.test%20https%3a%2f%2fwww.googleapis.com%2fauth%2fdrive%20https%3a%2f%2fwww.googleapis.com%2fauth%2fdrive.photos.readonly%20https%3a%2f%2fwww.googleapis.com%2fauth%2fpeopleapi.readonly\n",
            "\n",
            "Enter your authorization code:\n",
            "··········\n",
            "Mounted at /content/drive\n"
          ],
          "name": "stdout"
        }
      ]
    },
    {
      "cell_type": "code",
      "metadata": {
        "id": "qnDfgued5y_C",
        "colab_type": "code",
        "outputId": "94495480-b79e-4818-ad76-3ed1d60187f8",
        "colab": {
          "base_uri": "https://localhost:8080/",
          "height": 51
        }
      },
      "source": [
        "imgs, gt_imgs = load_trainset(path = 'drive/My Drive/training/')"
      ],
      "execution_count": 5,
      "outputs": [
        {
          "output_type": "stream",
          "text": [
            "Loading 100 testing images\n",
            "Loading 100 groundtruth\n"
          ],
          "name": "stdout"
        }
      ]
    },
    {
      "cell_type": "code",
      "metadata": {
        "id": "tzwcZ5WodFvF",
        "colab_type": "code",
        "colab": {}
      },
      "source": [
        "# \n",
        "# Preparation testing data to make a submission\n",
        "# \n",
        "\n",
        "# \n",
        "# Ordering image\n",
        "# \n",
        "root_testdir = \"drive/My Drive/test_set_images\"\n",
        "test_names = os.listdir(root_testdir)\n",
        "\n",
        "\n",
        "num_test = len(test_names)\n",
        "order = [int(test_names[i].split(\"_\")[1]) for i in range(num_test)]\n",
        "index = np.argsort(order)\n",
        "\n",
        "# Load image and reorder them\n",
        "imgs_test = [load_image(os.path.join(root_testdir, test_names[i], test_names[i]) + \".png\") \n",
        "             for i in range(num_test)]\n",
        "imgs_test = [imgs_test[i] for i in index]"
      ],
      "execution_count": 0,
      "outputs": []
    },
    {
      "cell_type": "code",
      "metadata": {
        "id": "G9779P9O52A1",
        "colab_type": "code",
        "colab": {}
      },
      "source": [
        "imgs, gt_imgs = rotate_images(imgs, gt_imgs, [ 15, 30, 45, 60, 75])\n",
        "\n",
        "n = len(imgs)"
      ],
      "execution_count": 0,
      "outputs": []
    },
    {
      "cell_type": "code",
      "metadata": {
        "id": "e5k4sd2N68r9",
        "colab_type": "code",
        "colab": {}
      },
      "source": [
        "img_size = 400\n",
        "\n",
        "Xr, Yr = resize_image(imgs, gt_imgs, img_size)\n",
        "Yr = np.reshape(Yr, (n, img_size, img_size, 1))"
      ],
      "execution_count": 0,
      "outputs": []
    },
    {
      "cell_type": "code",
      "metadata": {
        "id": "w5Z6roEC7GDh",
        "colab_type": "code",
        "colab": {}
      },
      "source": [
        "seed = 2019\n",
        "\n",
        "x_train, x_val, y_train, y_val = train_test_split(Xr, Yr, test_size=0.15,  random_state=seed)"
      ],
      "execution_count": 0,
      "outputs": []
    },
    {
      "cell_type": "code",
      "metadata": {
        "id": "ZNwDGBB5BjUt",
        "colab_type": "code",
        "colab": {}
      },
      "source": [
        "import skimage.io as io\n",
        "import skimage.transform as trans\n",
        "from keras.models import *\n",
        "from keras.layers import *\n",
        "from keras.optimizers import *\n",
        "from keras.callbacks import ModelCheckpoint, LearningRateScheduler\n",
        "from keras import backend as keras\n",
        "\n",
        "\n",
        "def unet2(pretrained_weights = None,input_size = (256,256,1)):\n",
        "    inputs = Input(input_size)\n",
        "    conv1 = Conv2D(64, 5, activation = 'relu', padding = 'same', kernel_initializer = 'he_normal')(inputs)\n",
        "    conv1 = Conv2D(64, 5, activation = 'relu', padding = 'same', kernel_initializer = 'he_normal')(conv1)\n",
        "    pool1 = MaxPooling2D(pool_size=(2, 2))(conv1)\n",
        "    conv2 = Conv2D(128, 5, activation = 'relu', padding = 'same', kernel_initializer = 'he_normal')(pool1)\n",
        "    conv2 = Conv2D(128, 5, activation = 'relu', padding = 'same', kernel_initializer = 'he_normal')(conv2)\n",
        "    pool2 = MaxPooling2D(pool_size=(2, 2))(conv2)\n",
        "    conv3 = Conv2D(256, 5, activation = 'relu', padding = 'same', kernel_initializer = 'he_normal')(pool2)\n",
        "    conv3 = Conv2D(256, 5, activation = 'relu', padding = 'same', kernel_initializer = 'he_normal')(conv3)\n",
        "    pool3 = MaxPooling2D(pool_size=(2, 2))(conv3)\n",
        "    conv4 = Conv2D(512, 5, activation = 'relu', padding = 'same', kernel_initializer = 'he_normal')(pool3)\n",
        "    conv4 = Conv2D(512, 5, activation = 'relu', padding = 'same', kernel_initializer = 'he_normal')(conv4)\n",
        "    drop4 = Dropout(0.5)(conv4)\n",
        "    pool4 = MaxPooling2D(pool_size=(2, 2))(drop4)\n",
        "\n",
        "    conv5 = Conv2D(1024, 5, activation = 'relu', padding = 'same', kernel_initializer = 'he_normal')(pool4)\n",
        "    conv5 = Conv2D(1024, 5, activation = 'relu', padding = 'same', kernel_initializer = 'he_normal')(conv5)\n",
        "    drop5 = Dropout(0.5)(conv5)\n",
        "\n",
        "    up6 = Conv2D(512, 2, activation = 'relu', padding = 'same', kernel_initializer = 'he_normal')(UpSampling2D(size = (2,2))(drop5))\n",
        "    merge6 = concatenate([drop4,up6], axis = 3)\n",
        "    conv6 = Conv2D(512, 5, activation = 'relu', padding = 'same', kernel_initializer = 'he_normal')(merge6)\n",
        "    conv6 = Conv2D(512, 5, activation = 'relu', padding = 'same', kernel_initializer = 'he_normal')(conv6)\n",
        "\n",
        "    up7 = Conv2D(256, 2, activation = 'relu', padding = 'same', kernel_initializer = 'he_normal')(UpSampling2D(size = (2,2))(conv6))\n",
        "    merge7 = concatenate([conv3,up7], axis = 3)\n",
        "    conv7 = Conv2D(256, 5, activation = 'relu', padding = 'same', kernel_initializer = 'he_normal')(merge7)\n",
        "    conv7 = Conv2D(256, 5, activation = 'relu', padding = 'same', kernel_initializer = 'he_normal')(conv7)\n",
        "\n",
        "    up8 = Conv2D(128, 2, activation = 'relu', padding = 'same', kernel_initializer = 'he_normal')(UpSampling2D(size = (2,2))(conv7))\n",
        "    merge8 = concatenate([conv2,up8], axis = 3)\n",
        "    conv8 = Conv2D(128, 5, activation = 'relu', padding = 'same', kernel_initializer = 'he_normal')(merge8)\n",
        "    conv8 = Conv2D(128, 5, activation = 'relu', padding = 'same', kernel_initializer = 'he_normal')(conv8)\n",
        "\n",
        "    up9 = Conv2D(64, 2, activation = 'relu', padding = 'same', kernel_initializer = 'he_normal')(UpSampling2D(size = (2,2))(conv8))\n",
        "    merge9 = concatenate([conv1,up9], axis = 3)\n",
        "    conv9 = Conv2D(64, 5, activation = 'relu', padding = 'same', kernel_initializer = 'he_normal')(merge9)\n",
        "    conv9 = Conv2D(64, 5, activation = 'relu', padding = 'same', kernel_initializer = 'he_normal')(conv9)\n",
        "    conv9 = Conv2D(2, 5, activation = 'relu', padding = 'same', kernel_initializer = 'he_normal')(conv9)\n",
        "    conv10 = Conv2D(1, 1, activation = 'sigmoid')(conv9)\n",
        "\n",
        "    model = Model(input = inputs, output = conv10)\n",
        "\n",
        "    return model"
      ],
      "execution_count": 0,
      "outputs": []
    },
    {
      "cell_type": "code",
      "metadata": {
        "id": "nIT775u2Yxpa",
        "colab_type": "code",
        "colab": {}
      },
      "source": [
        "import skimage.io as io\n",
        "import skimage.transform as trans\n",
        "from keras.models import *\n",
        "from keras.layers import *\n",
        "from keras.optimizers import *\n",
        "from keras.callbacks import ModelCheckpoint, LearningRateScheduler\n",
        "from keras import backend as keras\n",
        "\n",
        "\n",
        "def unet(pretrained_weights = None,input_size = (256,256,1)):\n",
        "    inputs = Input(input_size)\n",
        "    conv1 = Conv2D(128, 3, activation = 'relu', padding = 'same', kernel_initializer = 'he_normal')(inputs)\n",
        "    conv1 = Conv2D(128, 3, activation = 'relu', padding = 'same', kernel_initializer = 'he_normal')(conv1)\n",
        "    pool1 = MaxPooling2D(pool_size=(2, 2))(conv1)\n",
        "    conv2 = Conv2D(256, 3, activation = 'relu', padding = 'same', kernel_initializer = 'he_normal')(pool1)\n",
        "    conv2 = Conv2D(256, 3, activation = 'relu', padding = 'same', kernel_initializer = 'he_normal')(conv2)\n",
        "    pool2 = MaxPooling2D(pool_size=(2, 2))(conv2)\n",
        "    conv3 = Conv2D(512, 3, activation = 'relu', padding = 'same', kernel_initializer = 'he_normal')(pool2)\n",
        "    conv3 = Conv2D(512, 3, activation = 'relu', padding = 'same', kernel_initializer = 'he_normal')(conv3)\n",
        "    pool3 = MaxPooling2D(pool_size=(2, 2))(conv3)\n",
        "    conv4 = Conv2D(1024, 3, activation = 'relu', padding = 'same', kernel_initializer = 'he_normal')(pool3)\n",
        "    conv4 = Conv2D(1024, 3, activation = 'relu', padding = 'same', kernel_initializer = 'he_normal')(conv4)\n",
        "    drop4 = Dropout(0.25)(conv4)\n",
        "    pool4 = MaxPooling2D(pool_size=(2, 2))(drop4)\n",
        "\n",
        "    conv5 = Conv2D(2048, 3, activation = 'relu', padding = 'same', kernel_initializer = 'he_normal')(pool4)\n",
        "    conv5 = Conv2D(2048, 3, activation = 'relu', padding = 'same', kernel_initializer = 'he_normal')(conv5)\n",
        "    drop5 = Dropout(0.5)(conv5)\n",
        "\n",
        "    up6 = Conv2D(1024, 2, activation = 'relu', padding = 'same', kernel_initializer = 'he_normal')(UpSampling2D(size = (2,2))(drop5))\n",
        "    merge6 = concatenate([drop4,up6], axis = 3)\n",
        "    conv6 = Conv2D(1024, 3, activation = 'relu', padding = 'same', kernel_initializer = 'he_normal')(merge6)\n",
        "    conv6 = Conv2D(1024, 3, activation = 'relu', padding = 'same', kernel_initializer = 'he_normal')(conv6)\n",
        "\n",
        "    up7 = Conv2D(512, 2, activation = 'relu', padding = 'same', kernel_initializer = 'he_normal')(UpSampling2D(size = (2,2))(conv6))\n",
        "    merge7 = concatenate([conv3,up7], axis = 3)\n",
        "    conv7 = Conv2D(512, 3, activation = 'relu', padding = 'same', kernel_initializer = 'he_normal')(merge7)\n",
        "    conv7 = Conv2D(512, 3, activation = 'relu', padding = 'same', kernel_initializer = 'he_normal')(conv7)\n",
        "\n",
        "    up8 = Conv2D(256, 2, activation = 'relu', padding = 'same', kernel_initializer = 'he_normal')(UpSampling2D(size = (2,2))(conv7))\n",
        "    merge8 = concatenate([conv2,up8], axis = 3)\n",
        "    conv8 = Conv2D(256, 3, activation = 'relu', padding = 'same', kernel_initializer = 'he_normal')(merge8)\n",
        "    conv8 = Conv2D(256, 3, activation = 'relu', padding = 'same', kernel_initializer = 'he_normal')(conv8)\n",
        "\n",
        "    up9 = Conv2D(128, 2, activation = 'relu', padding = 'same', kernel_initializer = 'he_normal')(UpSampling2D(size = (2,2))(conv8))\n",
        "    merge9 = concatenate([conv1,up9], axis = 3)\n",
        "    conv9 = Conv2D(128, 3, activation = 'relu', padding = 'same', kernel_initializer = 'he_normal')(merge9)\n",
        "    conv9 = Conv2D(128, 3, activation = 'relu', padding = 'same', kernel_initializer = 'he_normal')(conv9)\n",
        "    conv9 = Conv2D(2, 3, activation = 'relu', padding = 'same', kernel_initializer = 'he_normal')(conv9)\n",
        "    conv10 = Conv2D(1, 1, activation = 'sigmoid')(conv9)\n",
        "\n",
        "    model = Model(input = inputs, output = conv10)\n",
        "\n",
        "    return model"
      ],
      "execution_count": 0,
      "outputs": []
    },
    {
      "cell_type": "code",
      "metadata": {
        "id": "-Ua8eMgndzfM",
        "colab_type": "code",
        "outputId": "f3cd868a-eabf-45b2-9dd8-5233786f705e",
        "colab": {
          "base_uri": "https://localhost:8080/",
          "height": 1000
        }
      },
      "source": [
        "input_size = (img_size, img_size, 3)\n",
        "weights = 'drive/My Drive/bigguy.h5'\n",
        "\n",
        "model = unet2(pretrained_weights = None, input_size = input_size)\n",
        "\n",
        "model.summary()"
      ],
      "execution_count": 10,
      "outputs": [
        {
          "output_type": "stream",
          "text": [
            "WARNING:tensorflow:From /usr/local/lib/python3.6/dist-packages/keras/backend/tensorflow_backend.py:66: The name tf.get_default_graph is deprecated. Please use tf.compat.v1.get_default_graph instead.\n",
            "\n",
            "WARNING:tensorflow:From /usr/local/lib/python3.6/dist-packages/keras/backend/tensorflow_backend.py:541: The name tf.placeholder is deprecated. Please use tf.compat.v1.placeholder instead.\n",
            "\n",
            "WARNING:tensorflow:From /usr/local/lib/python3.6/dist-packages/keras/backend/tensorflow_backend.py:4479: The name tf.truncated_normal is deprecated. Please use tf.random.truncated_normal instead.\n",
            "\n",
            "WARNING:tensorflow:From /usr/local/lib/python3.6/dist-packages/keras/backend/tensorflow_backend.py:4267: The name tf.nn.max_pool is deprecated. Please use tf.nn.max_pool2d instead.\n",
            "\n",
            "WARNING:tensorflow:From /usr/local/lib/python3.6/dist-packages/keras/backend/tensorflow_backend.py:148: The name tf.placeholder_with_default is deprecated. Please use tf.compat.v1.placeholder_with_default instead.\n",
            "\n",
            "WARNING:tensorflow:From /usr/local/lib/python3.6/dist-packages/keras/backend/tensorflow_backend.py:3733: calling dropout (from tensorflow.python.ops.nn_ops) with keep_prob is deprecated and will be removed in a future version.\n",
            "Instructions for updating:\n",
            "Please use `rate` instead of `keep_prob`. Rate should be set to `rate = 1 - keep_prob`.\n",
            "WARNING:tensorflow:From /usr/local/lib/python3.6/dist-packages/keras/backend/tensorflow_backend.py:2239: The name tf.image.resize_nearest_neighbor is deprecated. Please use tf.compat.v1.image.resize_nearest_neighbor instead.\n",
            "\n",
            "WARNING:tensorflow:From /usr/local/lib/python3.6/dist-packages/keras/backend/tensorflow_backend.py:4432: The name tf.random_uniform is deprecated. Please use tf.random.uniform instead.\n",
            "\n",
            "Model: \"model_1\"\n",
            "__________________________________________________________________________________________________\n",
            "Layer (type)                    Output Shape         Param #     Connected to                     \n",
            "==================================================================================================\n",
            "input_1 (InputLayer)            (None, 400, 400, 3)  0                                            \n",
            "__________________________________________________________________________________________________\n",
            "conv2d_1 (Conv2D)               (None, 400, 400, 64) 4864        input_1[0][0]                    \n",
            "__________________________________________________________________________________________________\n",
            "conv2d_2 (Conv2D)               (None, 400, 400, 64) 102464      conv2d_1[0][0]                   \n",
            "__________________________________________________________________________________________________\n",
            "max_pooling2d_1 (MaxPooling2D)  (None, 200, 200, 64) 0           conv2d_2[0][0]                   \n",
            "__________________________________________________________________________________________________\n",
            "conv2d_3 (Conv2D)               (None, 200, 200, 128 204928      max_pooling2d_1[0][0]            \n",
            "__________________________________________________________________________________________________\n",
            "conv2d_4 (Conv2D)               (None, 200, 200, 128 409728      conv2d_3[0][0]                   \n",
            "__________________________________________________________________________________________________\n",
            "max_pooling2d_2 (MaxPooling2D)  (None, 100, 100, 128 0           conv2d_4[0][0]                   \n",
            "__________________________________________________________________________________________________\n",
            "conv2d_5 (Conv2D)               (None, 100, 100, 256 819456      max_pooling2d_2[0][0]            \n",
            "__________________________________________________________________________________________________\n",
            "conv2d_6 (Conv2D)               (None, 100, 100, 256 1638656     conv2d_5[0][0]                   \n",
            "__________________________________________________________________________________________________\n",
            "max_pooling2d_3 (MaxPooling2D)  (None, 50, 50, 256)  0           conv2d_6[0][0]                   \n",
            "__________________________________________________________________________________________________\n",
            "conv2d_7 (Conv2D)               (None, 50, 50, 512)  3277312     max_pooling2d_3[0][0]            \n",
            "__________________________________________________________________________________________________\n",
            "conv2d_8 (Conv2D)               (None, 50, 50, 512)  6554112     conv2d_7[0][0]                   \n",
            "__________________________________________________________________________________________________\n",
            "dropout_1 (Dropout)             (None, 50, 50, 512)  0           conv2d_8[0][0]                   \n",
            "__________________________________________________________________________________________________\n",
            "max_pooling2d_4 (MaxPooling2D)  (None, 25, 25, 512)  0           dropout_1[0][0]                  \n",
            "__________________________________________________________________________________________________\n",
            "conv2d_9 (Conv2D)               (None, 25, 25, 1024) 13108224    max_pooling2d_4[0][0]            \n",
            "__________________________________________________________________________________________________\n",
            "conv2d_10 (Conv2D)              (None, 25, 25, 1024) 26215424    conv2d_9[0][0]                   \n",
            "__________________________________________________________________________________________________\n",
            "dropout_2 (Dropout)             (None, 25, 25, 1024) 0           conv2d_10[0][0]                  \n",
            "__________________________________________________________________________________________________\n",
            "up_sampling2d_1 (UpSampling2D)  (None, 50, 50, 1024) 0           dropout_2[0][0]                  \n",
            "__________________________________________________________________________________________________\n",
            "conv2d_11 (Conv2D)              (None, 50, 50, 512)  2097664     up_sampling2d_1[0][0]            \n",
            "__________________________________________________________________________________________________\n",
            "concatenate_1 (Concatenate)     (None, 50, 50, 1024) 0           dropout_1[0][0]                  \n",
            "                                                                 conv2d_11[0][0]                  \n",
            "__________________________________________________________________________________________________\n",
            "conv2d_12 (Conv2D)              (None, 50, 50, 512)  13107712    concatenate_1[0][0]              \n",
            "__________________________________________________________________________________________________\n",
            "conv2d_13 (Conv2D)              (None, 50, 50, 512)  6554112     conv2d_12[0][0]                  \n",
            "__________________________________________________________________________________________________\n",
            "up_sampling2d_2 (UpSampling2D)  (None, 100, 100, 512 0           conv2d_13[0][0]                  \n",
            "__________________________________________________________________________________________________\n",
            "conv2d_14 (Conv2D)              (None, 100, 100, 256 524544      up_sampling2d_2[0][0]            \n",
            "__________________________________________________________________________________________________\n",
            "concatenate_2 (Concatenate)     (None, 100, 100, 512 0           conv2d_6[0][0]                   \n",
            "                                                                 conv2d_14[0][0]                  \n",
            "__________________________________________________________________________________________________\n",
            "conv2d_15 (Conv2D)              (None, 100, 100, 256 3277056     concatenate_2[0][0]              \n",
            "__________________________________________________________________________________________________\n",
            "conv2d_16 (Conv2D)              (None, 100, 100, 256 1638656     conv2d_15[0][0]                  \n",
            "__________________________________________________________________________________________________\n",
            "up_sampling2d_3 (UpSampling2D)  (None, 200, 200, 256 0           conv2d_16[0][0]                  \n",
            "__________________________________________________________________________________________________\n",
            "conv2d_17 (Conv2D)              (None, 200, 200, 128 131200      up_sampling2d_3[0][0]            \n",
            "__________________________________________________________________________________________________\n",
            "concatenate_3 (Concatenate)     (None, 200, 200, 256 0           conv2d_4[0][0]                   \n",
            "                                                                 conv2d_17[0][0]                  \n",
            "__________________________________________________________________________________________________\n",
            "conv2d_18 (Conv2D)              (None, 200, 200, 128 819328      concatenate_3[0][0]              \n",
            "__________________________________________________________________________________________________\n",
            "conv2d_19 (Conv2D)              (None, 200, 200, 128 409728      conv2d_18[0][0]                  \n",
            "__________________________________________________________________________________________________\n",
            "up_sampling2d_4 (UpSampling2D)  (None, 400, 400, 128 0           conv2d_19[0][0]                  \n",
            "__________________________________________________________________________________________________\n",
            "conv2d_20 (Conv2D)              (None, 400, 400, 64) 32832       up_sampling2d_4[0][0]            \n",
            "__________________________________________________________________________________________________\n",
            "concatenate_4 (Concatenate)     (None, 400, 400, 128 0           conv2d_2[0][0]                   \n",
            "                                                                 conv2d_20[0][0]                  \n",
            "__________________________________________________________________________________________________\n",
            "conv2d_21 (Conv2D)              (None, 400, 400, 64) 204864      concatenate_4[0][0]              \n",
            "__________________________________________________________________________________________________\n",
            "conv2d_22 (Conv2D)              (None, 400, 400, 64) 102464      conv2d_21[0][0]                  \n",
            "__________________________________________________________________________________________________\n",
            "conv2d_23 (Conv2D)              (None, 400, 400, 2)  3202        conv2d_22[0][0]                  \n",
            "__________________________________________________________________________________________________\n",
            "conv2d_24 (Conv2D)              (None, 400, 400, 1)  3           conv2d_23[0][0]                  \n",
            "==================================================================================================\n",
            "Total params: 81,238,533\n",
            "Trainable params: 81,238,533\n",
            "Non-trainable params: 0\n",
            "__________________________________________________________________________________________________\n"
          ],
          "name": "stdout"
        },
        {
          "output_type": "stream",
          "text": [
            "/usr/local/lib/python3.6/dist-packages/ipykernel_launcher.py:52: UserWarning: Update your `Model` call to the Keras 2 API: `Model(inputs=Tensor(\"in..., outputs=Tensor(\"co...)`\n"
          ],
          "name": "stderr"
        }
      ]
    },
    {
      "cell_type": "code",
      "metadata": {
        "id": "vG-5u8X8CjBv",
        "colab_type": "code",
        "colab": {}
      },
      "source": [
        "from tensorflow.keras.preprocessing.image import ImageDataGenerator\n",
        "# Create image generator\n",
        "data_gen_args = dict(rotation_range=0.,\n",
        "        width_shift_range=0.05,\n",
        "        height_shift_range=0.05,\n",
        "        shear_range=15,\n",
        "        zoom_range=0.2,\n",
        "        horizontal_flip=True,\n",
        "        vertical_flip=True,)\n",
        "\n",
        "\n",
        "image_datagen = ImageDataGenerator(**data_gen_args, fill_mode ='reflect')\n",
        "\n",
        "seed = 1\n",
        "\n",
        "def XYaugmentGenerator(X1, y, gen, seed = 1, batch_size = 1):\n",
        "    genX1 = gen.flow(X1, y, batch_size=batch_size, seed=seed)\n",
        "    genX2 = gen.flow(y, X1, batch_size=batch_size, seed=seed)\n",
        "    while True:\n",
        "        X1i = genX1.next()\n",
        "        X2i = genX2.next()\n",
        "\n",
        "        yield X1i[0], X2i[0]\n",
        "\n",
        "train_gen = XYaugmentGenerator(x_train, y_train, image_datagen)"
      ],
      "execution_count": 0,
      "outputs": []
    },
    {
      "cell_type": "code",
      "metadata": {
        "id": "9fPuFEbmGn6c",
        "colab_type": "code",
        "colab": {}
      },
      "source": [
        "from keras.callbacks import ModelCheckpoint, ReduceLROnPlateau, EarlyStopping\n",
        "\n",
        "\n",
        "model_filename = 'filtermodel.h5'\n",
        "\n",
        "callback_checkpoint = ModelCheckpoint(model_filename, verbose=1, monitor='val_loss', save_best_only=True)\n",
        "lr = ReduceLROnPlateau(monitor='val_loss', factor=0.5, patience=3, verbose=1, mode='min', min_lr= 1e-8)\n",
        "es = EarlyStopping(monitor = 'val_loss', patience = 12, mode = 'min')\n",
        "\n"
      ],
      "execution_count": 0,
      "outputs": []
    },
    {
      "cell_type": "code",
      "metadata": {
        "id": "ZtUtxfGmCkna",
        "colab_type": "code",
        "outputId": "9ebed04e-9a9a-4df9-b028-299b9d5f2581",
        "colab": {
          "base_uri": "https://localhost:8080/",
          "height": 598
        }
      },
      "source": [
        "model.compile(loss='binary_crossentropy', \n",
        "              optimizer= Adam(lr = 1e-4),\n",
        "              metrics=['binary_accuracy'])\n",
        "\n",
        "\n",
        "history = model.fit_generator(\n",
        "    train_gen,\n",
        "    steps_per_epoch=600,\n",
        "    epochs=50,   \n",
        "    validation_data=(x_val, y_val),\n",
        "    callbacks=[callback_checkpoint, es, lr]\n",
        ")"
      ],
      "execution_count": 0,
      "outputs": [
        {
          "output_type": "stream",
          "text": [
            "WARNING:tensorflow:From /usr/local/lib/python3.6/dist-packages/keras/optimizers.py:793: The name tf.train.Optimizer is deprecated. Please use tf.compat.v1.train.Optimizer instead.\n",
            "\n",
            "WARNING:tensorflow:From /usr/local/lib/python3.6/dist-packages/keras/backend/tensorflow_backend.py:3657: The name tf.log is deprecated. Please use tf.math.log instead.\n",
            "\n",
            "WARNING:tensorflow:From /usr/local/lib/python3.6/dist-packages/tensorflow_core/python/ops/nn_impl.py:183: where (from tensorflow.python.ops.array_ops) is deprecated and will be removed in a future version.\n",
            "Instructions for updating:\n",
            "Use tf.where in 2.0, which has the same broadcast rule as np.where\n",
            "WARNING:tensorflow:From /usr/local/lib/python3.6/dist-packages/keras/backend/tensorflow_backend.py:1033: The name tf.assign_add is deprecated. Please use tf.compat.v1.assign_add instead.\n",
            "\n",
            "WARNING:tensorflow:From /usr/local/lib/python3.6/dist-packages/keras/backend/tensorflow_backend.py:1020: The name tf.assign is deprecated. Please use tf.compat.v1.assign instead.\n",
            "\n",
            "WARNING:tensorflow:From /usr/local/lib/python3.6/dist-packages/keras/backend/tensorflow_backend.py:3005: The name tf.Session is deprecated. Please use tf.compat.v1.Session instead.\n",
            "\n",
            "Epoch 1/50\n",
            "WARNING:tensorflow:From /usr/local/lib/python3.6/dist-packages/keras/backend/tensorflow_backend.py:190: The name tf.get_default_session is deprecated. Please use tf.compat.v1.get_default_session instead.\n",
            "\n",
            "WARNING:tensorflow:From /usr/local/lib/python3.6/dist-packages/keras/backend/tensorflow_backend.py:197: The name tf.ConfigProto is deprecated. Please use tf.compat.v1.ConfigProto instead.\n",
            "\n",
            "WARNING:tensorflow:From /usr/local/lib/python3.6/dist-packages/keras/backend/tensorflow_backend.py:207: The name tf.global_variables is deprecated. Please use tf.compat.v1.global_variables instead.\n",
            "\n",
            "WARNING:tensorflow:From /usr/local/lib/python3.6/dist-packages/keras/backend/tensorflow_backend.py:216: The name tf.is_variable_initialized is deprecated. Please use tf.compat.v1.is_variable_initialized instead.\n",
            "\n",
            "WARNING:tensorflow:From /usr/local/lib/python3.6/dist-packages/keras/backend/tensorflow_backend.py:223: The name tf.variables_initializer is deprecated. Please use tf.compat.v1.variables_initializer instead.\n",
            "\n",
            "600/600 [==============================] - 250s 417ms/step - loss: 0.4500 - binary_accuracy: 0.7343 - val_loss: 0.3677 - val_binary_accuracy: 0.7443\n",
            "\n",
            "Epoch 00001: val_loss improved from inf to 0.36774, saving model to filtermodel.h5\n",
            "Epoch 2/50\n",
            "600/600 [==============================] - 239s 399ms/step - loss: 0.3433 - binary_accuracy: 0.7322 - val_loss: 0.3405 - val_binary_accuracy: 0.7301\n",
            "\n",
            "Epoch 00002: val_loss improved from 0.36774 to 0.34051, saving model to filtermodel.h5\n",
            "Epoch 3/50\n",
            "  1/600 [..............................] - ETA: 3:49 - loss: 0.2584 - binary_accuracy: 0.7854"
          ],
          "name": "stdout"
        }
      ]
    },
    {
      "cell_type": "code",
      "metadata": {
        "id": "nNJb-ZotEl8y",
        "colab_type": "code",
        "colab": {}
      },
      "source": [
        "model.save_weights(filepath='drive/My Drive/bigguy.h5')"
      ],
      "execution_count": 0,
      "outputs": []
    },
    {
      "cell_type": "code",
      "metadata": {
        "id": "Iv1OEx0ycjSn",
        "colab_type": "code",
        "colab": {}
      },
      "source": [
        "model.load_weights('bigmodel.h5')\n"
      ],
      "execution_count": 0,
      "outputs": []
    },
    {
      "cell_type": "code",
      "metadata": {
        "id": "EdgNq3HKD3vM",
        "colab_type": "code",
        "colab": {}
      },
      "source": [
        "from keras_unet.utils import plot_imgs\n",
        "\n",
        "y_pred = model.predict(x_val, batch_size = 1, verbose = 1)\n",
        "y_pred[y_pred < 0.5] = 0\n",
        "y_pred[y_pred >= 0.5] = 1\n",
        "\n",
        "plot_imgs(org_imgs=x_val, mask_imgs=y_val, pred_imgs=y_pred, nm_img_to_plot=24)\n"
      ],
      "execution_count": 0,
      "outputs": []
    },
    {
      "cell_type": "code",
      "metadata": {
        "id": "yl6crbR9jHwl",
        "colab_type": "code",
        "colab": {}
      },
      "source": [
        "from keras import backend as K\n",
        "\n",
        "\n",
        "get_f1(y_val, y_pred)"
      ],
      "execution_count": 0,
      "outputs": []
    },
    {
      "cell_type": "code",
      "metadata": {
        "id": "Sa6h1rBMe6Hp",
        "colab_type": "code",
        "colab": {
          "base_uri": "https://localhost:8080/",
          "height": 85
        },
        "outputId": "8156680d-49d8-456f-ecd6-ecfacc9f036d"
      },
      "source": [
        "test_image_unet_submissionn(imgs_test, size = 400, model = model, filename = 'ciao.csv')"
      ],
      "execution_count": 32,
      "outputs": [
        {
          "output_type": "stream",
          "text": [
            "50/50 [==============================] - 7s 141ms/step\n",
            "50/50 [==============================] - 6s 128ms/step\n",
            "50/50 [==============================] - 6s 128ms/step\n",
            "50/50 [==============================] - 6s 127ms/step\n"
          ],
          "name": "stdout"
        }
      ]
    },
    {
      "cell_type": "code",
      "metadata": {
        "id": "nqHyH8K9113J",
        "colab_type": "code",
        "colab": {}
      },
      "source": [
        "def test_image_unet_submissionn(imgs_test, size = 400, model = model, filename = 'submission.csv'):\n",
        "\n",
        "\n",
        "  img1 = []\n",
        "  img2 = []\n",
        "  img3 = []\n",
        "  img4 = []\n",
        "\n",
        "  shift = 608 - size\n",
        "\n",
        "\n",
        "  for img in imgs_test:\n",
        "    img = img[0:size, 0:size, :]\n",
        "    img1.append(img)\n",
        "\n",
        "  for img in imgs_test:\n",
        "    img = img[shift:608, 0:size, :]\n",
        "    img2.append(img)\n",
        "\n",
        "  for img in imgs_test:\n",
        "    img = img[0:size, shift:608, :]\n",
        "    img3.append(img)\n",
        "\n",
        "  for img in imgs_test:\n",
        "    img = img[shift:608, shift:608, :]\n",
        "    img4.append(img)\n",
        "\n",
        "\n",
        "  img_pred1 = model.predict(np.asarray(img1), batch_size = 1, verbose = 1)\n",
        "  img_pred2 = model.predict(np.asarray(img2), batch_size = 1, verbose = 1)\n",
        "  img_pred3 = model.predict(np.asarray(img3), batch_size = 1, verbose = 1)\n",
        "  img_pred4 = model.predict(np.asarray(img4), batch_size = 1, verbose = 1)\n",
        "\n",
        "\n",
        "  img_pred1[img_pred1 <= 0.5] = 0\n",
        "  img_pred1[img_pred1 > 0.5] = 1\n",
        "\n",
        "  img_pred2[img_pred2 <= 0.5] = 0\n",
        "  img_pred2[img_pred2 > 0.5] = 1\n",
        "\n",
        "  img_pred3[img_pred3 <= 0.5] = 0\n",
        "  img_pred3[img_pred3 > 0.5] = 1\n",
        "\n",
        "  img_pred4[img_pred4 <= 0.5] = 0\n",
        "  img_pred4[img_pred4 > 0.5] = 1\n",
        "\n",
        "  img1 = np.asarray(img1)\n",
        "  img2 = np.asarray(img2)\n",
        "  img3 = np.asarray(img3)\n",
        "  img4 = np.asarray(img4)\n",
        "\n",
        "  list_m1 = []\n",
        "  list_m2 = []\n",
        "  list_merge = []\n",
        "\n",
        "  for i in range(50):\n",
        "    m1 = np.concatenate((img_pred1[i, 0:shift, :, :], img_pred2[i, :, :, :]), axis = 0)\n",
        "    list_m1.append(m1)\n",
        "    m2 = np.concatenate((img_pred3[i, 0:shift, :, :], img_pred4[i, :, :, :]), axis = 0)\n",
        "    list_m2.append(m2)\n",
        "    \n",
        "  list_m1 = np.asarray(list_m1)\n",
        "  list_m2 = np.asarray(list_m2)\n",
        "\n",
        "  for i in range(50):\n",
        "    merge = np.concatenate((list_m1[i,:,:,:], list_m2[i, :, (size - shift):size, :]), axis=1)\n",
        "    list_merge.append(merge)\n",
        "\n",
        "    \n",
        "  y_pred = np.asarray(list_merge)\n",
        "\n",
        "  pred_patch = [img_crop(y_pred[i], 16, 16) for i in range(y_pred.shape[0])]\n",
        "  pred_patch = np.asarray([pred_patch[i][j] for i in range(len(pred_patch)) for j in range(len(pred_patch[i]))])\n",
        "  pred_patch = np.asarray([value_to_class(np.mean(pred_patch[i])) for i in range(pred_patch.shape[0])])\n",
        "\n",
        "  create_submission(pred_patch, filename)"
      ],
      "execution_count": 0,
      "outputs": []
    },
    {
      "cell_type": "code",
      "metadata": {
        "id": "YxV57KhPLE9_",
        "colab_type": "code",
        "colab": {}
      },
      "source": [
        ""
      ],
      "execution_count": 0,
      "outputs": []
    }
  ]
}